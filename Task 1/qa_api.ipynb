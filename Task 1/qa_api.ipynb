{
 "cells": [
  {
   "cell_type": "code",
   "execution_count": 1,
   "id": "6c874afa",
   "metadata": {},
   "outputs": [],
   "source": [
    "import falcon\n",
    "from transformers import AutoTokenizer, AutoModelForQuestionAnswering"
   ]
  },
  {
   "cell_type": "code",
   "execution_count": 2,
   "id": "4806350e",
   "metadata": {},
   "outputs": [],
   "source": [
    "#QA System\n",
    "class QASystem:\n",
    "    def __init__(self):\n",
    "        # Load the pre-trained QA model\n",
    "        self.tokenizer = AutoTokenizer.from_pretrained('distilbert-base-uncased-distilled-squad')\n",
    "        self.model = AutoModelForQuestionAnswering.from_pretrained('distilbert-base-uncased-distilled-squad')\n",
    "\n",
    "    def extract_answer(self, question, context):\n",
    "        # Tokenize the input\n",
    "        inputs = self.tokenizer.encode_plus(question, context, add_special_tokens=True, return_tensors='pt')\n",
    "\n",
    "        # Get the model predictions\n",
    "        start_logits, end_logits = self.model(**inputs).values()\n",
    "\n",
    "        # Find the start and end positions of the answer\n",
    "        start_index = torch.argmax(start_logits)\n",
    "        end_index = torch.argmax(end_logits)\n",
    "\n",
    "        # Convert the token indices to actual answer\n",
    "        tokens = self.tokenizer.convert_ids_to_tokens(inputs['input_ids'].tolist()[0])\n",
    "        answer = ' '.join(tokens[start_index:end_index+1]).replace(' ##', '')\n",
    "\n",
    "        return answer\n"
   ]
  },
  {
   "cell_type": "code",
   "execution_count": 3,
   "id": "ef95b757",
   "metadata": {},
   "outputs": [],
   "source": [
    "#QA Resource\n",
    "class QAResource:\n",
    "    def __init__(self, qa_system):\n",
    "        self.qa_system = qa_system\n",
    "\n",
    "    def on_post(self, req, resp):\n",
    "        # Get the question and context from the request JSON\n",
    "        question = req.media['question']\n",
    "        context = req.media['context']\n",
    "\n",
    "        # Extract the answer using the QA system\n",
    "        answer = self.qa_system.extract_answer(question, context)\n",
    "\n",
    "        # Return the answer in the response\n",
    "        resp.media = {'answer': answer}"
   ]
  },
  {
   "cell_type": "code",
   "execution_count": 4,
   "id": "eb5b4cd8",
   "metadata": {},
   "outputs": [
    {
     "name": "stdout",
     "output_type": "stream",
     "text": [
      "Requirement already satisfied: waitress in c:\\users\\hoffin\\appdata\\local\\programs\\python\\python39\\lib\\site-packages (2.1.2)\n"
     ]
    }
   ],
   "source": [
    "!pip install waitress\n",
    "\n",
    "from waitress import serve"
   ]
  },
  {
   "cell_type": "code",
   "execution_count": null,
   "id": "93df4cdc",
   "metadata": {},
   "outputs": [],
   "source": [
    "# Create the Falcon API\n",
    "app = falcon.App()\n",
    "\n",
    "# Initialize the QA system and resource\n",
    "qa_system = QASystem()\n",
    "qa_resource = QAResource(qa_system)\n",
    "\n",
    "# Add the QA resource to the API\n",
    "app.add_route('/qa', qa_resource)\n",
    "\n",
    "serve(app, host='0.0.0.0', port=8000)\n"
   ]
  },
  {
   "cell_type": "code",
   "execution_count": null,
   "id": "2302c7fe",
   "metadata": {},
   "outputs": [],
   "source": [
    "import requests\n",
    "\n",
    "# Define the API endpoint URL\n",
    "api_url = 'http://localhost:8888/notebooks/Task%201/qa_api.py.ipynb/qa'\n",
    "\n",
    "# Prepare the request payload\n",
    "payload = {\n",
    "    'question': 'What is the capital of France?',\n",
    "    'context': 'Paris is the capital of France.'\n",
    "}\n",
    "\n",
    "# Send the POST request to the API\n",
    "response = requests.post(api_url, json=payload)\n",
    "\n",
    "# Check the response status code\n",
    "if response.status_code == 200:\n",
    "    # Extract the answer from the response JSON\n",
    "    answer = response.json()['answer']\n",
    "    print(f\"Answer: {answer}\")\n",
    "else:\n",
    "    print(\"Request failed with status code:\", response.status_code)"
   ]
  },
  {
   "cell_type": "code",
   "execution_count": null,
   "id": "ab1b035c",
   "metadata": {},
   "outputs": [],
   "source": []
  }
 ],
 "metadata": {
  "kernelspec": {
   "display_name": "Python 3 (ipykernel)",
   "language": "python",
   "name": "python3"
  },
  "language_info": {
   "codemirror_mode": {
    "name": "ipython",
    "version": 3
   },
   "file_extension": ".py",
   "mimetype": "text/x-python",
   "name": "python",
   "nbconvert_exporter": "python",
   "pygments_lexer": "ipython3",
   "version": "3.9.13"
  }
 },
 "nbformat": 4,
 "nbformat_minor": 5
}
